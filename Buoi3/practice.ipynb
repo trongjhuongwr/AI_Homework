{
 "cells": [
  {
   "cell_type": "code",
   "execution_count": 6,
   "metadata": {},
   "outputs": [],
   "source": [
    "import random\n",
    "import math\n",
    "\n",
    "def print_board(solution):\n",
    "    board = [['.' for _ in range(8)] for _ in range(8)]\n",
    "    for col, row in enumerate(solution):\n",
    "        board[row][col] = 'Q'\n",
    "    for row in board:\n",
    "        print(' '.join(row))\n",
    "    print()\n",
    "\n",
    "def conflicts(state):\n",
    "    conflicts = 0\n",
    "    for i in range(8):\n",
    "        for j in range(i + 1, 8):\n",
    "            if state[i] == state[j] or abs(i - j) == abs(state[i] - state[j]):\n",
    "                conflicts += 1\n",
    "    return conflicts\n",
    "\n",
    "def generate_random_state():\n",
    "    return [random.randint(0, 7) for _ in range(8)]\n",
    "\n",
    "def hill_climbing(max_iterations=1000):\n",
    "    current_state = generate_random_state()\n",
    "    for _ in range(max_iterations):\n",
    "        current_conflicts = conflicts(current_state)\n",
    "        if current_conflicts == 0:\n",
    "            return current_state\n",
    "        \n",
    "        neighbors = []\n",
    "        for col in range(8):\n",
    "            for row in range(8):\n",
    "                if row != current_state[col]:\n",
    "                    neighbor = current_state.copy()\n",
    "                    neighbor[col] = row\n",
    "                    neighbors.append(neighbor)\n",
    "        \n",
    "        best_neighbor = min(neighbors, key=conflicts)\n",
    "        if conflicts(best_neighbor) >= current_conflicts:\n",
    "            return current_state\n",
    "        current_state = best_neighbor\n",
    "    return current_state\n",
    "\n",
    "def simulated_annealing(max_iterations=10000, initial_temp=1.0, cooling_rate=0.995):\n",
    "    current_state = generate_random_state()\n",
    "    current_conflicts = conflicts(current_state)\n",
    "    temp = initial_temp\n",
    "    \n",
    "    for _ in range(max_iterations):\n",
    "        if current_conflicts == 0:\n",
    "            return current_state\n",
    "        \n",
    "        temp *= cooling_rate\n",
    "        \n",
    "        new_state = current_state.copy()\n",
    "        col = random.randint(0, 7)\n",
    "        new_state[col] = random.randint(0, 7)\n",
    "        \n",
    "        new_conflicts = conflicts(new_state)\n",
    "        delta_e = new_conflicts - current_conflicts\n",
    "        \n",
    "        if delta_e < 0 or random.random() < math.exp(-delta_e / temp):\n",
    "            current_state = new_state\n",
    "            current_conflicts = new_conflicts\n",
    "    \n",
    "    return current_state\n",
    "\n",
    "def genetic_algorithm(population_size=100, generations=1000, mutation_rate=0.1):\n",
    "    population = [generate_random_state() for _ in range(population_size)]\n",
    "    \n",
    "    for _ in range(generations):\n",
    "        population = sorted(population, key=lambda x: conflicts(x))\n",
    "        if conflicts(population[0]) == 0:\n",
    "            return population[0]\n",
    "        \n",
    "        new_population = population[:population_size // 2]\n",
    "        \n",
    "        while len(new_population) < population_size:\n",
    "            parent1, parent2 = random.sample(population[:population_size // 2], 2)\n",
    "            child = parent1[:4] + parent2[4:]\n",
    "            if random.random() < mutation_rate:\n",
    "                col = random.randint(0, 7)\n",
    "                child[col] = random.randint(0, 7)\n",
    "            new_population.append(child)\n",
    "        \n",
    "        population = new_population\n",
    "    \n",
    "    return min(population, key=conflicts)"
   ]
  },
  {
   "cell_type": "code",
   "execution_count": 7,
   "metadata": {},
   "outputs": [
    {
     "name": "stdout",
     "output_type": "stream",
     "text": [
      "Hill Climbing:\n",
      ". . . . . Q . .\n",
      "Q . . . . . . .\n",
      ". . . . Q . . .\n",
      ". Q . . . . . .\n",
      ". . . . . . . Q\n",
      ". . Q . . . . .\n",
      ". . . . . . Q .\n",
      ". . . Q . . . .\n",
      "\n",
      "Conflicts: 0\n"
     ]
    }
   ],
   "source": [
    "# Hill Climbing\n",
    "print(\"Hill Climbing:\")\n",
    "hill_climbing_result = hill_climbing()\n",
    "print_board(hill_climbing_result)\n",
    "print(f\"Conflicts: {conflicts(hill_climbing_result)}\")"
   ]
  },
  {
   "cell_type": "code",
   "execution_count": 8,
   "metadata": {},
   "outputs": [
    {
     "name": "stdout",
     "output_type": "stream",
     "text": [
      "\n",
      "Simulated Annealing:\n",
      ". . . . Q . . .\n",
      ". . . . . . . Q\n",
      ". . . Q . . . .\n",
      "Q . . . . . . .\n",
      ". . Q . . . . .\n",
      ". . . . . Q . .\n",
      ". Q . . . . . .\n",
      ". . . . . . Q .\n",
      "\n",
      "Conflicts: 0\n"
     ]
    }
   ],
   "source": [
    "# Simulated Annealing\n",
    "print(\"\\nSimulated Annealing:\")\n",
    "simulated_annealing_result = simulated_annealing()\n",
    "print_board(simulated_annealing_result)\n",
    "print(f\"Conflicts: {conflicts(simulated_annealing_result)}\")"
   ]
  },
  {
   "cell_type": "code",
   "execution_count": 9,
   "metadata": {},
   "outputs": [
    {
     "name": "stdout",
     "output_type": "stream",
     "text": [
      "\n",
      "Genetic Algorithm:\n",
      ". Q . . . . . .\n",
      ". . . . Q . . .\n",
      ". . . . . . Q .\n",
      "Q . . . . . . .\n",
      ". . Q . . . . .\n",
      ". . . . . . . Q\n",
      ". . . . . Q . .\n",
      ". . . Q . . . .\n",
      "\n",
      "Conflicts: 0\n"
     ]
    }
   ],
   "source": [
    "# Genetic Algorithm\n",
    "print(\"\\nGenetic Algorithm:\")\n",
    "genetic_result = genetic_algorithm()\n",
    "print_board(genetic_result)\n",
    "print(f\"Conflicts: {conflicts(genetic_result)}\")"
   ]
  }
 ],
 "metadata": {
  "kernelspec": {
   "display_name": "Python 3",
   "language": "python",
   "name": "python3"
  },
  "language_info": {
   "codemirror_mode": {
    "name": "ipython",
    "version": 3
   },
   "file_extension": ".py",
   "mimetype": "text/x-python",
   "name": "python",
   "nbconvert_exporter": "python",
   "pygments_lexer": "ipython3",
   "version": "3.12.5"
  }
 },
 "nbformat": 4,
 "nbformat_minor": 2
}
