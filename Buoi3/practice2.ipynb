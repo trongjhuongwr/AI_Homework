{
 "cells": [
  {
   "cell_type": "code",
   "execution_count": 1,
   "metadata": {},
   "outputs": [],
   "source": [
    "from simpleai.search import SearchProblem, hill_climbing, simulated_annealing, genetic\n",
    "import random\n",
    "import math\n",
    "\n",
    "class QueensProblem(SearchProblem):\n",
    "    def __init__(self, N):\n",
    "        self.N = N\n",
    "        initial_state = tuple(random.randint(0, N-1) for _ in range(N))\n",
    "        super().__init__(initial_state)\n",
    "\n",
    "    def actions(self, state):\n",
    "        return [(queen, col) for queen in range(self.N) for col in range(self.N) if col != state[queen]]\n",
    "\n",
    "    def result(self, state, action):\n",
    "        queen, new_col = action\n",
    "        new_state = list(state)\n",
    "        new_state[queen] = new_col\n",
    "        return tuple(new_state)\n",
    "\n",
    "    def value(self, state):\n",
    "        attacks = 0\n",
    "        for i in range(self.N):\n",
    "            for j in range(i + 1, self.N):\n",
    "                if state[i] == state[j] or abs(i - j) == abs(state[i] - state[j]):\n",
    "                    attacks += 1\n",
    "        return -attacks\n",
    "\n",
    "    def generate_random_state(self):\n",
    "        return tuple(random.randint(0, self.N-1) for _ in range(self.N))\n",
    "\n",
    "def print_board(state):\n",
    "    for row in range(len(state)):\n",
    "        line = ['Q' if col == state[row] else '.' for col in range(len(state))]\n",
    "        print(' '.join(line))\n",
    "    print()\n",
    "\n",
    "# Giải bài toán 8 hậu\n",
    "problem = QueensProblem(8)"
   ]
  },
  {
   "cell_type": "code",
   "execution_count": 2,
   "metadata": {},
   "outputs": [
    {
     "name": "stdout",
     "output_type": "stream",
     "text": [
      "Kết quả sử dụng Hill Climbing:\n",
      "Trạng thái: (6, 1, 3, 6, 0, 2, 4, 7)\n",
      "Giá trị: -2\n",
      ". . . . . . Q .\n",
      ". Q . . . . . .\n",
      ". . . Q . . . .\n",
      ". . . . . . Q .\n",
      "Q . . . . . . .\n",
      ". . Q . . . . .\n",
      ". . . . Q . . .\n",
      ". . . . . . . Q\n",
      "\n"
     ]
    }
   ],
   "source": [
    "# Sử dụng hill climbing\n",
    "result = hill_climbing(problem)\n",
    "\n",
    "print(\"Kết quả sử dụng Hill Climbing:\")\n",
    "print(\"Trạng thái:\", result.state)\n",
    "print(\"Giá trị:\", problem.value(result.state))\n",
    "print_board(result.state)"
   ]
  },
  {
   "cell_type": "code",
   "execution_count": null,
   "metadata": {},
   "outputs": [],
   "source": [
    "# Hàm tính nhiệt độ cho Simulated Annealing\n",
    "def temperature(k):\n",
    "    return 1.0 / (k + 1)\n",
    "\n",
    "# Sử dụng Simulated Annealing\n",
    "result = simulated_annealing(problem, temperature)\n",
    "\n",
    "print(\"Kết quả sử dụng Simulated Annealing:\")\n",
    "print(\"Trạng thái:\", result.state)\n",
    "print(\"Giá trị:\", problem.value(result.state))\n",
    "print_board(result.state)"
   ]
  },
  {
   "cell_type": "code",
   "execution_count": null,
   "metadata": {},
   "outputs": [],
   "source": [
    "def crossover(self, state1, state2):\n",
    "        cut = random.randint(0, self.N - 1)\n",
    "        return state1[:cut] + state2[cut:]\n",
    "\n",
    "def mutate(self, state):\n",
    "        index = random.randint(0, self.N - 1)\n",
    "        new_value = random.randint(0, self.N - 1)\n",
    "        return state[:index] + (new_value,) + state[index+1:]\n",
    "# Hàm giải bài toán sử dụng genetic algorithm\n",
    "def solve_genetic(problem, population_size=100, mutation_chance=0.1, iterations=100):\n",
    "    result = genetic(problem, population_size=population_size, mutation_chance=mutation_chance, iterations_limit=iterations)\n",
    "    return result.state, problem.value(result.state)\n",
    "\n",
    "# Sử dụng genetic algorithm\n",
    "genetic_solution, genetic_value = solve_genetic(problem)\n",
    "print(\"Genetic Algorithm Solution:\")\n",
    "print_board(genetic_solution)\n",
    "print(f\"Number of conflicts: {-genetic_value}\")"
   ]
  }
 ],
 "metadata": {
  "kernelspec": {
   "display_name": "Python 3",
   "language": "python",
   "name": "python3"
  },
  "language_info": {
   "codemirror_mode": {
    "name": "ipython",
    "version": 3
   },
   "file_extension": ".py",
   "mimetype": "text/x-python",
   "name": "python",
   "nbconvert_exporter": "python",
   "pygments_lexer": "ipython3",
   "version": "3.12.5"
  }
 },
 "nbformat": 4,
 "nbformat_minor": 2
}
