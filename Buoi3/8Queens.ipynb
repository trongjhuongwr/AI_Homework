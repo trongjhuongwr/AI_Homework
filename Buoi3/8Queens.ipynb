{
 "cells": [
  {
   "cell_type": "markdown",
   "metadata": {},
   "source": [
    "Search Problem"
   ]
  },
  {
   "cell_type": "code",
   "execution_count": 9,
   "metadata": {},
   "outputs": [],
   "source": [
    "from simpleai.search import SearchProblem, greedy, astar\n",
    "class EightQueensProblem(SearchProblem):\n",
    "    def actions(self, state):\n",
    "        if len(state) == 8:\n",
    "            return []\n",
    "        return [(len(state), i) for i in range(8)]\n",
    "\n",
    "    def result(self, state, action):\n",
    "        return state + (action,)\n",
    "\n",
    "    def is_goal(self, state):\n",
    "        return len(state) == 8 and self.conflicts(state) == 0\n",
    "\n",
    "    def conflicts(self, state):\n",
    "        conflicts = 0\n",
    "        for (r1, c1) in state:\n",
    "            for (r2, c2) in state:\n",
    "                if (r1, c1) != (r2, c2):\n",
    "                    if r1 == r2 or c1 == c2 or abs(r1 - r2) == abs(c1 - c2):\n",
    "                        conflicts += 1\n",
    "        return conflicts\n",
    "\n",
    "    def heuristic(self, state):\n",
    "        return self.conflicts(state)"
   ]
  },
  {
   "cell_type": "code",
   "execution_count": null,
   "metadata": {},
   "outputs": [],
   "source": [
    "#Greedy\n",
    "initial_state = ()\n",
    "problem = EightQueensProblem(initial_state)\n",
    "result = greedy(problem)\n",
    "\n",
    "board = [[0 for _ in range(8)] for _ in range(8)]\n",
    "for coord in result.state:\n",
    "    x, y = coord\n",
    "    board[x][y] = 'Q'\n",
    "for row in board:\n",
    "    print(' '.join(map(str, row)))"
   ]
  },
  {
   "cell_type": "code",
   "execution_count": null,
   "metadata": {},
   "outputs": [],
   "source": [
    "#AStar\n",
    "initial_state = ()\n",
    "problem = EightQueensProblem(initial_state)\n",
    "result = astar(problem)\n",
    "\n",
    "board = [[0 for _ in range(8)] for _ in range(8)]\n",
    "for coord in result.state:\n",
    "    x, y = coord\n",
    "    board[x][y] = 'Q'\n",
    "for row in board:\n",
    "    print(' '.join(map(str, row)))"
   ]
  },
  {
   "cell_type": "markdown",
   "metadata": {},
   "source": [
    "Local search"
   ]
  },
  {
   "cell_type": "code",
   "execution_count": 12,
   "metadata": {},
   "outputs": [],
   "source": [
    "import random\n",
    "from simpleai.search import SearchProblem, hill_climbing, simulated_annealing, genetic\n",
    "class EightQueensProblem(SearchProblem):\n",
    "    def actions(self, state):\n",
    "        actions = []\n",
    "        for row in range(8):\n",
    "            for col in range(8):\n",
    "                if state[row] != col:\n",
    "                    actions.append((row, col))\n",
    "        return actions\n",
    "\n",
    "    def result(self, state, action):\n",
    "        row, col = action\n",
    "        new_state = list(state)\n",
    "        new_state[row] = col\n",
    "        return tuple(new_state)\n",
    "\n",
    "    def value(self, state):\n",
    "        return -self.heuristic(state)\n",
    "\n",
    "    def heuristic(self, state):\n",
    "        conflicts = 0\n",
    "        for i in range(8):\n",
    "            for j in range(i + 1, 8):\n",
    "                if state[i] == state[j] or abs(state[i] - state[j]) == abs(i - j):\n",
    "                    conflicts += 1\n",
    "        return conflicts"
   ]
  },
  {
   "cell_type": "code",
   "execution_count": null,
   "metadata": {},
   "outputs": [],
   "source": [
    "#Hill Climbing\n",
    "initial_state = tuple([0] * 8)\n",
    "problem = EightQueensProblem(initial_state)\n",
    "solution_node = hill_climbing(problem)\n",
    "solution = solution_node.state\n",
    "\n",
    "print(\"Hill Climbing Solution:\")\n",
    "for row in range(8):\n",
    "    line = \"\"\n",
    "    for col in range(8):\n",
    "        if solution[row] == col:\n",
    "            line += \"Q \"\n",
    "        else:\n",
    "            line += \". \"\n",
    "    print(line)"
   ]
  },
  {
   "cell_type": "code",
   "execution_count": null,
   "metadata": {},
   "outputs": [],
   "source": [
    "#Simulated Annealing\n",
    "initial_state = tuple([0] * 8)\n",
    "problem = EightQueensProblem(initial_state)\n",
    "solution_node = simulated_annealing(problem)\n",
    "solution = solution_node.state\n",
    "\n",
    "print(\"Simulated Annealing Solution:\")\n",
    "for row in range(8):\n",
    "    line = \"\"\n",
    "    for col in range(8):\n",
    "        if solution[row] == col:\n",
    "            line += \"Q \"\n",
    "        else:\n",
    "            line += \". \"\n",
    "    print(line)"
   ]
  },
  {
   "cell_type": "code",
   "execution_count": null,
   "metadata": {},
   "outputs": [],
   "source": [
    "#Genetic\n",
    "class EightQueensProblem(SearchProblem):\n",
    "    def generate_random_state(self):\n",
    "        return tuple(random.randint(0, 7) for _ in range(8))\n",
    "\n",
    "    def crossover(self, state1, state2):\n",
    "        crossover_point = random.randint(1, 7)\n",
    "        return state1[:crossover_point] + state2[crossover_point:]\n",
    "\n",
    "    def mutate(self, state):\n",
    "        state = list(state)\n",
    "        index = random.randint(0, 7)\n",
    "        state[index] = random.randint(0, 7)\n",
    "        return tuple(state)\n",
    "\n",
    "    def value(self, state):\n",
    "        conflicts = 0\n",
    "        for i in range(len(state)):\n",
    "            for j in range(i + 1, len(state)):\n",
    "                if state[i] == state[j] or abs(state[i] - state[j]) == abs(i - j):\n",
    "                    conflicts += 1\n",
    "        return -conflicts\n",
    "\n",
    "problem = EightQueensProblem()\n",
    "\n",
    "solution_node = genetic(problem, population_size=100, mutation_chance=0.2, iterations_limit=1000)\n",
    "solution = solution_node.state\n",
    "print(solution)\n",
    "\n",
    "print(\"Genetic Algorithm Solution:\")\n",
    "for row in range(8):\n",
    "    line = \"\"\n",
    "    for col in range(8):\n",
    "        if solution[row] == col:\n",
    "            line += \"Q \"\n",
    "        else:\n",
    "            line += \". \"\n",
    "    print(line)"
   ]
  },
  {
   "cell_type": "markdown",
   "metadata": {},
   "source": [
    "Constraint Satisfaction Problem"
   ]
  },
  {
   "cell_type": "code",
   "execution_count": 1,
   "metadata": {},
   "outputs": [
    {
     "name": "stdout",
     "output_type": "stream",
     "text": [
      "Solution:\n",
      "Q . . . . . . . \n",
      ". . . . Q . . . \n",
      ". . . . . . . Q \n",
      ". . . . . Q . . \n",
      ". . Q . . . . . \n",
      ". . . . . . Q . \n",
      ". Q . . . . . . \n",
      ". . . Q . . . . \n"
     ]
    }
   ],
   "source": [
    "from simpleai.search import CspProblem, backtrack\n",
    "\n",
    "def constraint(variables, values):\n",
    "    for i in range(len(values)):\n",
    "        for j in range(i + 1, len(values)):\n",
    "            if values[i] == values[j] or abs(values[i] - values[j]) == abs(variables[i] - variables[j]):\n",
    "                return False\n",
    "    return True\n",
    "\n",
    "variables = range(8)\n",
    "domains = {var: range(8) for var in variables}\n",
    "constraints = [(variables, constraint)]\n",
    "\n",
    "problem = CspProblem(variables, domains, constraints)\n",
    "solution = backtrack(problem)\n",
    "\n",
    "print(\"Solution:\")\n",
    "for row in range(8):\n",
    "    line = \"\"\n",
    "    for col in range(8):\n",
    "        if solution[row] == col:\n",
    "            line += \"Q \"\n",
    "        else:\n",
    "            line += \". \"\n",
    "    print(line)\n"
   ]
  }
 ],
 "metadata": {
  "kernelspec": {
   "display_name": "Python 3",
   "language": "python",
   "name": "python3"
  },
  "language_info": {
   "codemirror_mode": {
    "name": "ipython",
    "version": 3
   },
   "file_extension": ".py",
   "mimetype": "text/x-python",
   "name": "python",
   "nbconvert_exporter": "python",
   "pygments_lexer": "ipython3",
   "version": "3.12.5"
  }
 },
 "nbformat": 4,
 "nbformat_minor": 2
}
