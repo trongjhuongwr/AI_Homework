{
 "cells": [
  {
   "cell_type": "code",
   "execution_count": 1,
   "metadata": {},
   "outputs": [
    {
     "name": "stdout",
     "output_type": "stream",
     "text": [
      "Requirement already satisfied: scikit-learn in c:\\users\\user\\appdata\\local\\programs\\python\\python312\\lib\\site-packages (1.5.2)\n",
      "Requirement already satisfied: numpy>=1.19.5 in c:\\users\\user\\appdata\\local\\programs\\python\\python312\\lib\\site-packages (from scikit-learn) (2.1.0)\n",
      "Requirement already satisfied: scipy>=1.6.0 in c:\\users\\user\\appdata\\local\\programs\\python\\python312\\lib\\site-packages (from scikit-learn) (1.14.1)\n",
      "Requirement already satisfied: joblib>=1.2.0 in c:\\users\\user\\appdata\\local\\programs\\python\\python312\\lib\\site-packages (from scikit-learn) (1.4.2)\n",
      "Requirement already satisfied: threadpoolctl>=3.1.0 in c:\\users\\user\\appdata\\local\\programs\\python\\python312\\lib\\site-packages (from scikit-learn) (3.5.0)\n",
      "Note: you may need to restart the kernel to use updated packages.\n"
     ]
    }
   ],
   "source": [
    "pip install scikit-learn"
   ]
  },
  {
   "cell_type": "code",
   "execution_count": 2,
   "metadata": {},
   "outputs": [
    {
     "name": "stdout",
     "output_type": "stream",
     "text": [
      "Hamming Distance:\n",
      "Predicted classes: [0 1]\n",
      "Accuracy: 1.00\n",
      "\n",
      "Cosine Distance:\n",
      "Predicted classes: [0 1]\n",
      "Accuracy: 1.00\n",
      "\n",
      "Manhattan Distance:\n",
      "Predicted classes: [0 1]\n",
      "Accuracy: 1.00\n",
      "\n",
      "Euclid Distance:\n",
      "Predicted classes: [0 1]\n",
      "Accuracy: 1.00\n",
      "\n",
      "Hamming Distance between X_test[0] and X_test[1]: 1.0000\n",
      "Cosine Distance between X_test[0] and X_test[1]: 0.4305\n",
      "Manhattan Distance between X_test[0] and X_test[1]: 10.0000\n",
      "Euclid Distance between X_test[0] and X_test[1]: 5.2915\n"
     ]
    }
   ],
   "source": [
    "import numpy as np\n",
    "from sklearn.metrics.pairwise import cosine_distances, manhattan_distances, euclidean_distances, pairwise_distances\n",
    "from sklearn.metrics import accuracy_score\n",
    "\n",
    "# Tạo dữ liệu mẫu\n",
    "X_train = np.array([[1, 2, 3, 4], [4, 3, 2, 1], [2, 2, 2, 2]])\n",
    "y_train = np.array([0, 1, 0])  # Nhãn cho dữ liệu huấn luyện\n",
    "\n",
    "X_test = np.array([[1, 1, 3, 4], [4, 4, 2, 1]])\n",
    "y_test = np.array([0, 1])  # Nhãn thực tế cho dữ liệu kiểm tra\n",
    "\n",
    "def predict_class(X_train, y_train, X_test, distance_func, metric=None):\n",
    "    if metric:\n",
    "        distances = distance_func(X_test, X_train, metric=metric)\n",
    "    else:\n",
    "        distances = distance_func(X_test, X_train)\n",
    "    nearest_neighbor_indices = np.argmin(distances, axis=1)\n",
    "    return y_train[nearest_neighbor_indices]\n",
    "\n",
    "# Tính khoảng cách và accuracy cho mỗi loại\n",
    "distance_functions = [\n",
    "    (\"Hamming\", pairwise_distances, 'hamming'),\n",
    "    (\"Cosine\", cosine_distances, None),\n",
    "    (\"Manhattan\", manhattan_distances, None),\n",
    "    (\"Euclid\", euclidean_distances, None)\n",
    "]\n",
    "\n",
    "for name, func, metric in distance_functions:\n",
    "    # Dự đoán lớp dựa trên khoảng cách ngắn nhất\n",
    "    y_pred = predict_class(X_train, y_train, X_test, func, metric)\n",
    "    \n",
    "    # Tính accuracy\n",
    "    accuracy = accuracy_score(y_test, y_pred)\n",
    "    \n",
    "    print(f\"{name} Distance:\")\n",
    "    print(f\"Predicted classes: {y_pred}\")\n",
    "    print(f\"Accuracy: {accuracy:.2f}\")\n",
    "    print()\n",
    "\n",
    "# Tính và in khoảng cách giữa X_test[0] và X_test[1]\n",
    "X = X_test[0].reshape(1, -1)\n",
    "Y = X_test[1].reshape(1, -1)\n",
    "\n",
    "for name, func, metric in distance_functions:\n",
    "    if metric:\n",
    "        distance = func(X, Y, metric=metric)[0][0]\n",
    "    else:\n",
    "        distance = func(X, Y)[0][0]\n",
    "    print(f\"{name} Distance between X_test[0] and X_test[1]: {distance:.4f}\")"
   ]
  }
 ],
 "metadata": {
  "kernelspec": {
   "display_name": "Python 3",
   "language": "python",
   "name": "python3"
  },
  "language_info": {
   "codemirror_mode": {
    "name": "ipython",
    "version": 3
   },
   "file_extension": ".py",
   "mimetype": "text/x-python",
   "name": "python",
   "nbconvert_exporter": "python",
   "pygments_lexer": "ipython3",
   "version": "3.12.5"
  }
 },
 "nbformat": 4,
 "nbformat_minor": 2
}
