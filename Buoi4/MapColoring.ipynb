{
 "cells": [
  {
   "cell_type": "code",
   "execution_count": 31,
   "metadata": {},
   "outputs": [
    {
     "name": "stdout",
     "output_type": "stream",
     "text": [
      "Giải pháp tô màu bản đồ:\n",
      "WA: Red\n",
      "NT: Green\n",
      "SA: Blue\n",
      "Q: Red\n",
      "NSW: Green\n",
      "V: Red\n",
      "T: Red\n"
     ]
    }
   ],
   "source": [
    "from simpleai.search import CspProblem, backtrack\n",
    "\n",
    "def constraint_func(variables, values):\n",
    "    return values[0] != values[1]\n",
    "\n",
    "def map_coloring():\n",
    "    # Định nghĩa các vùng và màu sắc\n",
    "    regions = ['WA', 'NT', 'SA', 'Q', 'NSW', 'V', 'T']\n",
    "    colors = ['Red', 'Green', 'Blue']\n",
    "\n",
    "    # Định nghĩa các ràng buộc giữa các vùng\n",
    "    constraints = [\n",
    "        (('WA', 'NT'), constraint_func),\n",
    "        (('WA', 'SA'), constraint_func),\n",
    "        (('NT', 'SA'), constraint_func),\n",
    "        (('NT', 'Q'), constraint_func),\n",
    "        (('SA', 'Q'), constraint_func),\n",
    "        (('SA', 'NSW'), constraint_func),\n",
    "        (('SA', 'V'), constraint_func),\n",
    "        (('Q', 'NSW'), constraint_func),\n",
    "        (('NSW', 'V'), constraint_func),\n",
    "    ]\n",
    "\n",
    "    # Tạo bài toán CSP\n",
    "    domains = {r: colors.copy() for r in regions}\n",
    "    problem = CspProblem(regions, domains, constraints)\n",
    "\n",
    "    # Giải bài toán sử dụng thuật toán backtrack\n",
    "    result = backtrack(problem)\n",
    "\n",
    "    return result\n",
    "\n",
    "# Chạy và in kết quả\n",
    "solution = map_coloring()\n",
    "if solution:\n",
    "    print(\"Giải pháp tô màu bản đồ:\")\n",
    "    for region, color in solution.items():\n",
    "        print(f\"{region}: {color}\")\n",
    "else:\n",
    "    print(\"Không tìm thấy giải pháp.\")"
   ]
  }
 ],
 "metadata": {
  "kernelspec": {
   "display_name": "Python 3",
   "language": "python",
   "name": "python3"
  },
  "language_info": {
   "codemirror_mode": {
    "name": "ipython",
    "version": 3
   },
   "file_extension": ".py",
   "mimetype": "text/x-python",
   "name": "python",
   "nbconvert_exporter": "python",
   "pygments_lexer": "ipython3",
   "version": "3.12.5"
  }
 },
 "nbformat": 4,
 "nbformat_minor": 2
}
