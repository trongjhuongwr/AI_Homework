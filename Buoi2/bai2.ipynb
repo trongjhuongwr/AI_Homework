{
 "cells": [
  {
   "cell_type": "code",
   "execution_count": 1,
   "metadata": {},
   "outputs": [
    {
     "name": "stdout",
     "output_type": "stream",
     "text": [
      "Requirement already satisfied: simpleai in c:\\users\\user\\appdata\\local\\programs\\python\\python312\\lib\\site-packages (0.8.3)\n",
      "Note: you may need to restart the kernel to use updated packages.\n"
     ]
    }
   ],
   "source": [
    "pip install simpleai"
   ]
  },
  {
   "cell_type": "code",
   "execution_count": 7,
   "metadata": {},
   "outputs": [],
   "source": [
    "from simpleai.search import SearchProblem\n",
    "\n",
    "GOAL = 'TRONG HUONG'\n",
    "\n",
    "class SimpleSearchProblem(SearchProblem):\n",
    "    def actions(self, state):\n",
    "        if len(state) < len(GOAL):\n",
    "            return list(' ABCDEFGHIJKLMNOPQRSTUVWXYZ')\n",
    "        else:\n",
    "            return []\n",
    "\n",
    "    def result(self, state, action):\n",
    "        return state + action\n",
    "\n",
    "    def is_goal(self, state):\n",
    "        return state == GOAL\n",
    "    \n",
    "    def cost(self, state, action, state2):\n",
    "        return 1"
   ]
  },
  {
   "cell_type": "code",
   "execution_count": 8,
   "metadata": {},
   "outputs": [],
   "source": [
    "my_problem = SimpleSearchProblem(initial_state='')"
   ]
  },
  {
   "cell_type": "code",
   "execution_count": 9,
   "metadata": {},
   "outputs": [],
   "source": [
    "from simpleai.search.traditional import depth_first, \\\n",
    "    breadth_first, uniform_cost, \\\n",
    "        limited_depth_first, iterative_limited_depth_first"
   ]
  },
  {
   "cell_type": "code",
   "execution_count": 10,
   "metadata": {},
   "outputs": [],
   "source": [
    "result1 = depth_first(my_problem)\n",
    "print(\"GOAL: \", result1.state)\n",
    "print(\"Steps:\\n\", result1.path())"
   ]
  },
  {
   "cell_type": "code",
   "execution_count": 6,
   "metadata": {},
   "outputs": [
    {
     "ename": "KeyboardInterrupt",
     "evalue": "",
     "output_type": "error",
     "traceback": [
      "\u001b[1;31m---------------------------------------------------------------------------\u001b[0m",
      "\u001b[1;31mKeyboardInterrupt\u001b[0m                         Traceback (most recent call last)",
      "Cell \u001b[1;32mIn[6], line 1\u001b[0m\n\u001b[1;32m----> 1\u001b[0m result2 \u001b[38;5;241m=\u001b[39m \u001b[43mbreadth_first\u001b[49m\u001b[43m(\u001b[49m\u001b[43mmy_problem\u001b[49m\u001b[43m)\u001b[49m\n\u001b[0;32m      2\u001b[0m \u001b[38;5;28mprint\u001b[39m(\u001b[38;5;124m\"\u001b[39m\u001b[38;5;124mGOAL: \u001b[39m\u001b[38;5;124m\"\u001b[39m, result2\u001b[38;5;241m.\u001b[39mstate)\n\u001b[0;32m      3\u001b[0m \u001b[38;5;28mprint\u001b[39m(\u001b[38;5;124m\"\u001b[39m\u001b[38;5;124mSteps:\u001b[39m\u001b[38;5;130;01m\\n\u001b[39;00m\u001b[38;5;124m\"\u001b[39m, result2\u001b[38;5;241m.\u001b[39mpath())\n",
      "File \u001b[1;32mc:\\Users\\USER\\AppData\\Local\\Programs\\Python\\Python312\\Lib\\site-packages\\simpleai\\search\\traditional.py:16\u001b[0m, in \u001b[0;36mbreadth_first\u001b[1;34m(problem, graph_search, viewer)\u001b[0m\n\u001b[0;32m      8\u001b[0m \u001b[38;5;28;01mdef\u001b[39;00m \u001b[38;5;21mbreadth_first\u001b[39m(problem, graph_search\u001b[38;5;241m=\u001b[39m\u001b[38;5;28;01mFalse\u001b[39;00m, viewer\u001b[38;5;241m=\u001b[39m\u001b[38;5;28;01mNone\u001b[39;00m):\n\u001b[0;32m      9\u001b[0m \u001b[38;5;250m    \u001b[39m\u001b[38;5;124;03m'''\u001b[39;00m\n\u001b[0;32m     10\u001b[0m \u001b[38;5;124;03m    Breadth first search.\u001b[39;00m\n\u001b[0;32m     11\u001b[0m \n\u001b[1;32m   (...)\u001b[0m\n\u001b[0;32m     14\u001b[0m \u001b[38;5;124;03m    SearchProblem.is_goal.\u001b[39;00m\n\u001b[0;32m     15\u001b[0m \u001b[38;5;124;03m    '''\u001b[39;00m\n\u001b[1;32m---> 16\u001b[0m     \u001b[38;5;28;01mreturn\u001b[39;00m \u001b[43m_search\u001b[49m\u001b[43m(\u001b[49m\u001b[43mproblem\u001b[49m\u001b[43m,\u001b[49m\n\u001b[0;32m     17\u001b[0m \u001b[43m                   \u001b[49m\u001b[43mFifoList\u001b[49m\u001b[43m(\u001b[49m\u001b[43m)\u001b[49m\u001b[43m,\u001b[49m\n\u001b[0;32m     18\u001b[0m \u001b[43m                   \u001b[49m\u001b[43mgraph_search\u001b[49m\u001b[38;5;241;43m=\u001b[39;49m\u001b[43mgraph_search\u001b[49m\u001b[43m,\u001b[49m\n\u001b[0;32m     19\u001b[0m \u001b[43m                   \u001b[49m\u001b[43mviewer\u001b[49m\u001b[38;5;241;43m=\u001b[39;49m\u001b[43mviewer\u001b[49m\u001b[43m)\u001b[49m\n",
      "File \u001b[1;32mc:\\Users\\USER\\AppData\\Local\\Programs\\Python\\Python312\\Lib\\site-packages\\simpleai\\search\\traditional.py:156\u001b[0m, in \u001b[0;36m_search\u001b[1;34m(problem, fringe, graph_search, depth_limit, node_factory, graph_replace_when_better, viewer)\u001b[0m\n\u001b[0;32m    153\u001b[0m memory\u001b[38;5;241m.\u001b[39madd(node\u001b[38;5;241m.\u001b[39mstate)\n\u001b[0;32m    155\u001b[0m \u001b[38;5;28;01mif\u001b[39;00m depth_limit \u001b[38;5;129;01mis\u001b[39;00m \u001b[38;5;28;01mNone\u001b[39;00m \u001b[38;5;129;01mor\u001b[39;00m node\u001b[38;5;241m.\u001b[39mdepth \u001b[38;5;241m<\u001b[39m depth_limit:\n\u001b[1;32m--> 156\u001b[0m     expanded \u001b[38;5;241m=\u001b[39m \u001b[43mnode\u001b[49m\u001b[38;5;241;43m.\u001b[39;49m\u001b[43mexpand\u001b[49m\u001b[43m(\u001b[49m\u001b[43m)\u001b[49m\n\u001b[0;32m    157\u001b[0m     \u001b[38;5;28;01mif\u001b[39;00m viewer:\n\u001b[0;32m    158\u001b[0m         viewer\u001b[38;5;241m.\u001b[39mevent(\u001b[38;5;124m'\u001b[39m\u001b[38;5;124mexpanded\u001b[39m\u001b[38;5;124m'\u001b[39m, [node], [expanded])\n",
      "File \u001b[1;32mc:\\Users\\USER\\AppData\\Local\\Programs\\Python\\Python312\\Lib\\site-packages\\simpleai\\search\\models.py:111\u001b[0m, in \u001b[0;36mSearchNode.expand\u001b[1;34m(self, local_search)\u001b[0m\n\u001b[0;32m    107\u001b[0m     cost \u001b[38;5;241m=\u001b[39m \u001b[38;5;28mself\u001b[39m\u001b[38;5;241m.\u001b[39mproblem\u001b[38;5;241m.\u001b[39mcost(\u001b[38;5;28mself\u001b[39m\u001b[38;5;241m.\u001b[39mstate,\n\u001b[0;32m    108\u001b[0m                              action,\n\u001b[0;32m    109\u001b[0m                              new_state)\n\u001b[0;32m    110\u001b[0m     nodefactory \u001b[38;5;241m=\u001b[39m \u001b[38;5;28mself\u001b[39m\u001b[38;5;241m.\u001b[39m\u001b[38;5;18m__class__\u001b[39m\n\u001b[1;32m--> 111\u001b[0m     new_nodes\u001b[38;5;241m.\u001b[39mappend(\u001b[43mnodefactory\u001b[49m\u001b[43m(\u001b[49m\u001b[43mstate\u001b[49m\u001b[38;5;241;43m=\u001b[39;49m\u001b[43mnew_state\u001b[49m\u001b[43m,\u001b[49m\n\u001b[0;32m    112\u001b[0m \u001b[43m                                 \u001b[49m\u001b[43mparent\u001b[49m\u001b[38;5;241;43m=\u001b[39;49m\u001b[38;5;28;43;01mNone\u001b[39;49;00m\u001b[43m \u001b[49m\u001b[38;5;28;43;01mif\u001b[39;49;00m\u001b[43m \u001b[49m\u001b[43mlocal_search\u001b[49m\u001b[43m \u001b[49m\u001b[38;5;28;43;01melse\u001b[39;49;00m\u001b[43m \u001b[49m\u001b[38;5;28;43mself\u001b[39;49m\u001b[43m,\u001b[49m\n\u001b[0;32m    113\u001b[0m \u001b[43m                                 \u001b[49m\u001b[43mproblem\u001b[49m\u001b[38;5;241;43m=\u001b[39;49m\u001b[38;5;28;43mself\u001b[39;49m\u001b[38;5;241;43m.\u001b[39;49m\u001b[43mproblem\u001b[49m\u001b[43m,\u001b[49m\n\u001b[0;32m    114\u001b[0m \u001b[43m                                 \u001b[49m\u001b[43maction\u001b[49m\u001b[38;5;241;43m=\u001b[39;49m\u001b[43maction\u001b[49m\u001b[43m,\u001b[49m\n\u001b[0;32m    115\u001b[0m \u001b[43m                                 \u001b[49m\u001b[43mcost\u001b[49m\u001b[38;5;241;43m=\u001b[39;49m\u001b[38;5;28;43mself\u001b[39;49m\u001b[38;5;241;43m.\u001b[39;49m\u001b[43mcost\u001b[49m\u001b[43m \u001b[49m\u001b[38;5;241;43m+\u001b[39;49m\u001b[43m \u001b[49m\u001b[43mcost\u001b[49m\u001b[43m,\u001b[49m\n\u001b[0;32m    116\u001b[0m \u001b[43m                                 \u001b[49m\u001b[43mdepth\u001b[49m\u001b[38;5;241;43m=\u001b[39;49m\u001b[38;5;28;43mself\u001b[39;49m\u001b[38;5;241;43m.\u001b[39;49m\u001b[43mdepth\u001b[49m\u001b[43m \u001b[49m\u001b[38;5;241;43m+\u001b[39;49m\u001b[43m \u001b[49m\u001b[38;5;241;43m1\u001b[39;49m\u001b[43m)\u001b[49m)\n\u001b[0;32m    117\u001b[0m \u001b[38;5;28;01mreturn\u001b[39;00m new_nodes\n",
      "\u001b[1;31mKeyboardInterrupt\u001b[0m: "
     ]
    }
   ],
   "source": [
    "result2 = breadth_first(my_problem)\n",
    "print(\"GOAL: \", result2.state)\n",
    "print(\"Steps:\\n\", result2.path())"
   ]
  },
  {
   "cell_type": "code",
   "execution_count": 15,
   "metadata": {},
   "outputs": [
    {
     "name": "stdout",
     "output_type": "stream",
     "text": [
      "GOAL:  U WON\n",
      "Steps:\n",
      " [(None, ''), ('U', 'U'), (' ', 'U '), ('W', 'U W'), ('O', 'U WO'), ('N', 'U WON')]\n"
     ]
    }
   ],
   "source": [
    "result3 = uniform_cost(my_problem)\n",
    "print(\"GOAL: \", result3.state)\n",
    "print(\"Steps:\\n\", result3.path())"
   ]
  },
  {
   "cell_type": "code",
   "execution_count": 5,
   "metadata": {},
   "outputs": [
    {
     "name": "stdout",
     "output_type": "stream",
     "text": [
      "GOAL:  U WON\n",
      "Steps:\n",
      " [(None, ''), ('U', 'U'), (' ', 'U '), ('W', 'U W'), ('O', 'U WO'), ('N', 'U WON')]\n"
     ]
    }
   ],
   "source": [
    "result4 = limited_depth_first(my_problem, 5)\n",
    "print(\"GOAL: \", result4.state)\n",
    "print(\"Steps:\\n\", result4.path())"
   ]
  },
  {
   "cell_type": "code",
   "execution_count": 6,
   "metadata": {},
   "outputs": [
    {
     "name": "stdout",
     "output_type": "stream",
     "text": [
      "GOAL:  U WON\n",
      "Steps:\n",
      " [(None, ''), ('U', 'U'), (' ', 'U '), ('W', 'U W'), ('O', 'U WO'), ('N', 'U WON')]\n"
     ]
    }
   ],
   "source": [
    "result5 = iterative_limited_depth_first(my_problem)\n",
    "print(\"GOAL: \", result5.state)\n",
    "print(\"Steps:\\n\", result5.path())"
   ]
  }
 ],
 "metadata": {
  "kernelspec": {
   "display_name": "Python 3",
   "language": "python",
   "name": "python3"
  },
  "language_info": {
   "codemirror_mode": {
    "name": "ipython",
    "version": 3
   },
   "file_extension": ".py",
   "mimetype": "text/x-python",
   "name": "python",
   "nbconvert_exporter": "python",
   "pygments_lexer": "ipython3",
   "version": "3.12.5"
  }
 },
 "nbformat": 4,
 "nbformat_minor": 2
}
